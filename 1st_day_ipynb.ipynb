{
  "nbformat": 4,
  "nbformat_minor": 0,
  "metadata": {
    "colab": {
      "name": "1st_day_ipynb.ipynb",
      "provenance": [],
      "collapsed_sections": [
        "aVdLVlYeMBUi"
      ],
      "toc_visible": true,
      "include_colab_link": true
    },
    "language_info": {
      "codemirror_mode": {
        "name": "ipython",
        "version": 3
      },
      "file_extension": ".py",
      "mimetype": "text/x-python",
      "name": "python",
      "nbconvert_exporter": "python",
      "pygments_lexer": "ipython3",
      "version": "3.6.6"
    },
    "kernelspec": {
      "display_name": "Python 3",
      "language": "python",
      "name": "python3"
    }
  },
  "cells": [
    {
      "cell_type": "markdown",
      "metadata": {
        "id": "view-in-github",
        "colab_type": "text"
      },
      "source": [
        "<a href=\"https://colab.research.google.com/github/daigokawabe/Flask_First_WebApp/blob/master/1st_day_ipynb.ipynb\" target=\"_parent\"><img src=\"https://colab.research.google.com/assets/colab-badge.svg\" alt=\"Open In Colab\"/></a>"
      ]
    },
    {
      "cell_type": "markdown",
      "metadata": {
        "id": "VG3DIs7MMBSl",
        "colab_type": "text"
      },
      "source": [
        "# 1. Numpy and Matplotlib"
      ]
    },
    {
      "cell_type": "markdown",
      "metadata": {
        "id": "HP_yedxyMBSm",
        "colab_type": "text"
      },
      "source": [
        "![Imgur](https://i.imgur.com/8prlyQj.jpg)\n",
        "\n",
        "\n",
        "\n",
        "### What you will learn today\n",
        "* Install Numpy, Matplotlib and set up their environment\n",
        "* Explain each library\n",
        "* How to use basic Numpy\n",
        "* How to use basic Matplotlib\n",
        "* Practice\n",
        "\n",
        "\n",
        "\n",
        "### IT words learning in lesson\n",
        "- dimension : 次元\n",
        "- vector : ベクトル\n",
        "- multidimensional array : 多次元配列\n",
        "- dot product : 内積\n",
        "- scatter : 散布図"
      ]
    },
    {
      "cell_type": "markdown",
      "metadata": {
        "id": "Ob2HNR2YMBSm",
        "colab_type": "text"
      },
      "source": [
        "## 1.1. Numpy\n",
        "\n",
        "There are many useful libraries in Python. Especially, NumPy, a library of Python, is essential to calculate numerical value and value in science and technology field.  \n",
        "If we use NumPy to implement and calculate linear algebra that is often used in the filed of deep learning, we can do it quite efficiently.\n",
        "We will learn how to use basic NumPy and think about an image to implement formula.\n",
        "\n",
        "When you installed Anaconda, NumPy is installed at the same time.\n",
        "    \"If you do not use Anaconda, you can install it easily as follows.\n",
        "```bash\n",
        "pip install numpy\n",
        "```\n",
        "\n",
        "### 1.1.1 ndarray\n",
        "There is data type called **list** to deal with arrays including multidimensional array in Python.  \n",
        "We use this list to calculate matrix. However, we can not get the result of matrix calculation as calculating `A + B` and `A * B` unless we implement function by ourselves in matrix calculation.\n",
        "We calculate as follows now.\n"
      ]
    },
    {
      "cell_type": "code",
      "metadata": {
        "id": "QyvjxzzXMBSn",
        "colab_type": "code",
        "outputId": "4f2484b7-e1dd-4895-bfb0-c13e793599c0",
        "colab": {
          "base_uri": "https://localhost:8080/",
          "height": 35
        }
      },
      "source": [
        "A = [[1,0], [0,1]]\n",
        "B = [[1,2], [3,4]]\n",
        "\n",
        "print(A + B)"
      ],
      "execution_count": 0,
      "outputs": [
        {
          "output_type": "stream",
          "text": [
            "[[1, 0], [0, 1], [1, 2], [3, 4]]\n"
          ],
          "name": "stdout"
        }
      ]
    },
    {
      "cell_type": "code",
      "metadata": {
        "id": "hpHZXKnmDjdf",
        "colab_type": "code",
        "colab": {}
      },
      "source": [
        ""
      ],
      "execution_count": 0,
      "outputs": []
    },
    {
      "cell_type": "markdown",
      "metadata": {
        "id": "aemm9pT7MBSu",
        "colab_type": "text"
      },
      "source": [
        "The result is as follows.\n",
        "```\n",
        "[[1, 0], [0, 1], [1, 2], [3, 4]]\n",
        "```\n",
        "Returned list is just combined the values of A and B.\n",
        "\n",
        "We use **ndarray** in Numpy now. \n",
        "ndarray is not flexible as arrays than Python of list but it specializes in matrix calculation.\n",
        "Numpy is used in `C`, programming language that is faster than `Python`. When we use ndarray in matrix calculation, it is beneficial to have a fast.\n",
        "We calculate addition of matrix now.\n"
      ]
    },
    {
      "cell_type": "code",
      "metadata": {
        "id": "0ZCVPncQMBSv",
        "colab_type": "code",
        "outputId": "e7aab2da-c7e4-47b7-8c42-8bac7afecdc8",
        "colab": {
          "base_uri": "https://localhost:8080/",
          "height": 51
        }
      },
      "source": [
        "import numpy as np\n",
        "\n",
        "A = np.array([[1,0], [0,1]])\n",
        "B = np.array([[1,0], [0,1]])\n",
        "\n",
        "print(A + B)"
      ],
      "execution_count": 0,
      "outputs": [
        {
          "output_type": "stream",
          "text": [
            "[[2 0]\n",
            " [0 2]]\n"
          ],
          "name": "stdout"
        }
      ]
    },
    {
      "cell_type": "markdown",
      "metadata": {
        "id": "k6OfP1T9MBSx",
        "colab_type": "text"
      },
      "source": [
        "First of all, first line, \n",
        "\n",
        "```python\n",
        "import numpy as np\n",
        "```\n",
        "\n",
        "This imports numpy and it is used the alias in `np` because the function of numpy is often used in the code repeatedly.  \n",
        "\n",
        "The result is as follows.\n",
        "```\n",
        "[[2 0]\n",
        "[0 2]]\n",
        "```\n",
        "It is the correct result in matrix calculation.\n",
        "\n",
        "Remember that ndarray is a class to deal with multidimensional array and it has the restriction as follows.\n",
        "\n",
        " * All types of element in array is same\n",
        " * Array length is fixed(Fixed length array)\n",
        " * The number of element is same in arrays of each dimension\n",
        "\n",
        "\n",
        "### 1.1.2 The Attributes of ndarray\n",
        "\n",
        "We learn about the attributes of ndarray now.\n",
        "It is often used in the code.\n",
        "\n",
        "\n",
        "| Attribute | Explanation |\n",
        "| :--- | :---- |\n",
        "| ndarray.flags | Memory layout information in array data (numpy.flagsobj) |\n",
        "| ndarray.ndim | Number of dimenstion in arrays |\n",
        "| ndarray.size | Number of element in arrays |\n",
        "| ndarray.shape | Number of element in each dimention |\n",
        "| ndarray.itemsize | Number of a byte in element |\n",
        "| ndarray.strides | Needed number of byte to move next element in each dimension |\n",
        "| ndarray.nbytes | Number of byte in all arrays |\n",
        "| ndarray.dtype | Data type in element of array (numpy.dtype) |\n",
        "\n",
        "We output this to the console in Jupyter now."
      ]
    },
    {
      "cell_type": "code",
      "metadata": {
        "id": "sdcDRx5PMBSy",
        "colab_type": "code",
        "outputId": "45357978-aea4-471b-ef4d-06782d5e112e",
        "colab": {
          "base_uri": "https://localhost:8080/",
          "height": 89
        }
      },
      "source": [
        ""
      ],
      "execution_count": 0,
      "outputs": [
        {
          "output_type": "stream",
          "text": [
            "[[ 1  2  3]\n",
            " [ 4  5  6]\n",
            " [ 7  8  9]\n",
            " [10 11 12]]\n"
          ],
          "name": "stdout"
        }
      ]
    },
    {
      "cell_type": "markdown",
      "metadata": {
        "id": "E-ccuDIdMBS1",
        "colab_type": "text"
      },
      "source": [
        "First of all, we prepared `4 * 3 (height*width)` of matrix."
      ]
    },
    {
      "cell_type": "code",
      "metadata": {
        "id": "8VeY4jP4MBS2",
        "colab_type": "code",
        "outputId": "048d9f0e-262a-4d0e-d332-87e705bf7a15",
        "colab": {
          "base_uri": "https://localhost:8080/",
          "height": 143
        }
      },
      "source": [
        "print(A.flags)"
      ],
      "execution_count": 0,
      "outputs": [
        {
          "output_type": "stream",
          "text": [
            "  C_CONTIGUOUS : True\n",
            "  F_CONTIGUOUS : False\n",
            "  OWNDATA : True\n",
            "  WRITEABLE : True\n",
            "  ALIGNED : True\n",
            "  WRITEBACKIFCOPY : False\n",
            "  UPDATEIFCOPY : False\n"
          ],
          "name": "stdout"
        }
      ]
    },
    {
      "cell_type": "markdown",
      "metadata": {
        "id": "EiQWmz6_MBS5",
        "colab_type": "text"
      },
      "source": [
        "Keep going."
      ]
    },
    {
      "cell_type": "code",
      "metadata": {
        "id": "d-TVCtJ6MBS6",
        "colab_type": "code",
        "outputId": "b7436fa1-99e6-406d-e5e9-e08b96d272cc",
        "colab": {
          "base_uri": "https://localhost:8080/",
          "height": 35
        }
      },
      "source": [
        "print(A.ndim) # ndim == This means N dimension!"
      ],
      "execution_count": 0,
      "outputs": [
        {
          "output_type": "stream",
          "text": [
            "2\n"
          ],
          "name": "stdout"
        }
      ]
    },
    {
      "cell_type": "markdown",
      "metadata": {
        "id": "qAVr6jwBMBS8",
        "colab_type": "text"
      },
      "source": [
        "Strictly speaking, this dimension shows the axis number.\n",
        "In our opinion, the dimension of vector is the number of elements in the arrays,  \n",
        "in other words, \n",
        "```\n",
        "a = [1,2,3]\n",
        "```\n",
        "in this case, `a` is third dimension of vector\n",
        "```\n",
        "b = [1,2,3,4]\n",
        "```\n",
        "In this case, `b` is fourth dimension of vector.\n",
        "\n",
        "However, ndarray specializes in multidimensional array. We will learn about the concept, **tensor**, tomorrow. ndim shows the axis number.\n",
        "In `A` case,\n",
        "```\n",
        "[[ 1  2  3]\n",
        " [ 4  5  6]\n",
        " [ 7  8  9]\n",
        " [10 11 12]]\n",
        " ```\n",
        " This has two axes, height and width, so this multidimensional array is second dimension.\n"
      ]
    },
    {
      "cell_type": "code",
      "metadata": {
        "id": "8ZaiohQQMBS9",
        "colab_type": "code",
        "outputId": "09670bc9-f480-4add-fa2e-30acc68035e9",
        "colab": {
          "base_uri": "https://localhost:8080/",
          "height": 35
        }
      },
      "source": [
        "print(A.size)"
      ],
      "execution_count": 0,
      "outputs": [
        {
          "output_type": "stream",
          "text": [
            "12\n"
          ],
          "name": "stdout"
        }
      ]
    },
    {
      "cell_type": "markdown",
      "metadata": {
        "id": "Rvqg0hPtMBTA",
        "colab_type": "text"
      },
      "source": [
        "This is the result of `4 * 3`. In short, the number of elements."
      ]
    },
    {
      "cell_type": "code",
      "metadata": {
        "id": "eQYffTBUMBTB",
        "colab_type": "code",
        "outputId": "fd5d3d58-0613-439b-cb85-cfc38f6c48cd",
        "colab": {
          "base_uri": "https://localhost:8080/",
          "height": 35
        }
      },
      "source": [
        "print(A.shape)"
      ],
      "execution_count": 0,
      "outputs": [
        {
          "output_type": "stream",
          "text": [
            "(4, 3)\n"
          ],
          "name": "stdout"
        }
      ]
    },
    {
      "cell_type": "markdown",
      "metadata": {
        "id": "N0cP8n0xMBTE",
        "colab_type": "text"
      },
      "source": [
        "This shows `4 * 3` itself."
      ]
    },
    {
      "cell_type": "code",
      "metadata": {
        "id": "wK_BNrPnMBTF",
        "colab_type": "code",
        "outputId": "d9e558bc-0edf-4beb-985f-8fbd6faa2807",
        "colab": {
          "base_uri": "https://localhost:8080/",
          "height": 53
        }
      },
      "source": [
        "tate, yoko = A.shape\n",
        "print(\"tate: {}\".format(tate))\n",
        "print(\"yoko: {}\".format(yoko))"
      ],
      "execution_count": 0,
      "outputs": [
        {
          "output_type": "stream",
          "text": [
            "tate: 4\n",
            "yoko: 3\n"
          ],
          "name": "stdout"
        }
      ]
    },
    {
      "cell_type": "markdown",
      "metadata": {
        "id": "Kg8rjulbMBTH",
        "colab_type": "text"
      },
      "source": [
        "When we wrote like this, we can set the size of height and width."
      ]
    },
    {
      "cell_type": "markdown",
      "metadata": {
        "id": "FSJjmCZ6MBTI",
        "colab_type": "text"
      },
      "source": [
        "We learn about others."
      ]
    },
    {
      "cell_type": "code",
      "metadata": {
        "id": "d-nBOZQKMBTI",
        "colab_type": "code",
        "outputId": "82fd9430-f590-43a4-8b4e-10bc1edc95f9",
        "colab": {
          "base_uri": "https://localhost:8080/",
          "height": 89
        }
      },
      "source": [
        "print(A.itemsize)\n",
        "print(A.strides)\n",
        "print(A.nbytes)\n",
        "print(A.dtype)"
      ],
      "execution_count": 0,
      "outputs": [
        {
          "output_type": "stream",
          "text": [
            "8\n",
            "(24, 8)\n",
            "96\n",
            "int64\n"
          ],
          "name": "stdout"
        }
      ]
    },
    {
      "cell_type": "markdown",
      "metadata": {
        "id": "EvktwpsaMBTL",
        "colab_type": "text"
      },
      "source": [
        "To be honest, these are rarely used except `dtype`.\n",
        "dtype shows the element type. However, when we write as follows, we will get the different result."
      ]
    },
    {
      "cell_type": "code",
      "metadata": {
        "id": "wkgIeZcjMBTL",
        "colab_type": "code",
        "outputId": "aa774825-3989-4c67-bd38-b3d0f25e76b9",
        "colab": {
          "base_uri": "https://localhost:8080/",
          "height": 35
        }
      },
      "source": [
        "B = np.array([1.0,2.0,3.0,4.0,5.0])\n",
        "print(B.dtype)"
      ],
      "execution_count": 0,
      "outputs": [
        {
          "output_type": "stream",
          "text": [
            "float64\n"
          ],
          "name": "stdout"
        }
      ]
    },
    {
      "cell_type": "markdown",
      "metadata": {
        "id": "iCsRV3DEMBTP",
        "colab_type": "text"
      },
      "source": [
        "### 1.1.3 Vector and Matrix Calculation with Numpy\n",
        "\n",
        "Remember that the calculation with numpy, ndarray to be often used in coding.\n",
        "\n",
        "\n",
        "#### Addition | 和\n",
        "```\n",
        "a + b\n",
        "```"
      ]
    },
    {
      "cell_type": "code",
      "metadata": {
        "id": "XYipPh4kMBTP",
        "colab_type": "code",
        "outputId": "081f8a89-6672-4a3a-b20c-6caed09111d5",
        "colab": {
          "base_uri": "https://localhost:8080/",
          "height": 35
        }
      },
      "source": [
        "a = np.array([1,2,3])\n",
        "b = np.array([-3,-2,-1])\n",
        "\n",
        "print(a + b)"
      ],
      "execution_count": 0,
      "outputs": [
        {
          "output_type": "stream",
          "text": [
            "[-2  0  2]\n"
          ],
          "name": "stdout"
        }
      ]
    },
    {
      "cell_type": "code",
      "metadata": {
        "id": "iYoKZ0b0MBTS",
        "colab_type": "code",
        "outputId": "4a11d3ba-498e-4c43-c280-8fa3da011744",
        "colab": {
          "base_uri": "https://localhost:8080/",
          "height": 35
        }
      },
      "source": [
        "print(a + 3)"
      ],
      "execution_count": 0,
      "outputs": [
        {
          "output_type": "stream",
          "text": [
            "[4 5 6]\n"
          ],
          "name": "stdout"
        }
      ]
    },
    {
      "cell_type": "markdown",
      "metadata": {
        "id": "E7CuCFurMBTW",
        "colab_type": "text"
      },
      "source": [
        "We calculate this in matrix now"
      ]
    },
    {
      "cell_type": "code",
      "metadata": {
        "id": "_7W1NPkbMBTX",
        "colab_type": "code",
        "outputId": "0e382ab9-f2b1-40f2-8267-f30c387e9356",
        "colab": {
          "base_uri": "https://localhost:8080/",
          "height": 53
        }
      },
      "source": [
        "A = np.array([[1,0], [0,1]])\n",
        "B = np.array([[1,0], [0,1]])\n",
        "print(A + B)"
      ],
      "execution_count": 0,
      "outputs": [
        {
          "output_type": "stream",
          "text": [
            "[[2 0]\n",
            " [0 2]]\n"
          ],
          "name": "stdout"
        }
      ]
    },
    {
      "cell_type": "markdown",
      "metadata": {
        "id": "VkVx9gfWMBTb",
        "colab_type": "text"
      },
      "source": [
        "#### Multiplication | 積\n",
        "```\n",
        "a * b\n",
        "A * B\n",
        "```"
      ]
    },
    {
      "cell_type": "code",
      "metadata": {
        "id": "cYIzYnPLMBTb",
        "colab_type": "code",
        "outputId": "35f9d064-759c-4d26-8fa3-907c06e1a788",
        "colab": {
          "base_uri": "https://localhost:8080/",
          "height": 35
        }
      },
      "source": [
        "print(a * b)"
      ],
      "execution_count": 0,
      "outputs": [
        {
          "output_type": "stream",
          "text": [
            "[-3 -4 -3]\n"
          ],
          "name": "stdout"
        }
      ]
    },
    {
      "cell_type": "code",
      "metadata": {
        "id": "c3MDsrv2MBTe",
        "colab_type": "code",
        "outputId": "973e6c1c-42ae-488d-9657-bf7adc55cebc",
        "colab": {
          "base_uri": "https://localhost:8080/",
          "height": 53
        }
      },
      "source": [
        "print(A * B)"
      ],
      "execution_count": 0,
      "outputs": [
        {
          "output_type": "stream",
          "text": [
            "[[1 0]\n",
            " [0 1]]\n"
          ],
          "name": "stdout"
        }
      ]
    },
    {
      "cell_type": "markdown",
      "metadata": {
        "id": "plFDLwCYMBTg",
        "colab_type": "text"
      },
      "source": [
        "#### Dot Product | 内積\n",
        "```\n",
        "np.dot(a, b)\n",
        "np.dot(A, B)\n",
        "```"
      ]
    },
    {
      "cell_type": "code",
      "metadata": {
        "id": "FvgGDEP0MBTh",
        "colab_type": "code",
        "outputId": "85957c36-41cc-43c3-e37a-980f4627fb0e",
        "colab": {
          "base_uri": "https://localhost:8080/",
          "height": 35
        }
      },
      "source": [
        "\n",
        "print(np.dot(a, b))"
      ],
      "execution_count": 0,
      "outputs": [
        {
          "output_type": "stream",
          "text": [
            "-10\n"
          ],
          "name": "stdout"
        }
      ]
    },
    {
      "cell_type": "code",
      "metadata": {
        "id": "3p2RoDjXMBTj",
        "colab_type": "code",
        "outputId": "85e8dfb6-39a0-43c5-b6dd-1eb5ba232f28",
        "colab": {
          "base_uri": "https://localhost:8080/",
          "height": 53
        }
      },
      "source": [
        "print(np.dot(A, B))"
      ],
      "execution_count": 0,
      "outputs": [
        {
          "output_type": "stream",
          "text": [
            "[[1 0]\n",
            " [0 1]]\n"
          ],
          "name": "stdout"
        }
      ]
    },
    {
      "cell_type": "markdown",
      "metadata": {
        "id": "e3QR3F5mMBTl",
        "colab_type": "text"
      },
      "source": [
        "There is the one thing that we need to be careful when we calculate an dot product  in matrix.\n",
        "It is `shape` in two matrix."
      ]
    },
    {
      "cell_type": "code",
      "metadata": {
        "id": "rbHMZQDwMBTl",
        "colab_type": "code",
        "outputId": "bd04b160-57f2-4912-a9d7-4ade84571a1f",
        "colab": {
          "base_uri": "https://localhost:8080/",
          "height": 53
        }
      },
      "source": [
        "print(A.shape)\n",
        "print(B.shape)"
      ],
      "execution_count": 0,
      "outputs": [
        {
          "output_type": "stream",
          "text": [
            "(2, 2)\n",
            "(2, 2)\n"
          ],
          "name": "stdout"
        }
      ]
    },
    {
      "cell_type": "markdown",
      "metadata": {
        "id": "uBABFrzQMBTo",
        "colab_type": "text"
      },
      "source": [
        "It does not occur problem in this case, A and B of matrix, due to square matrix with the same number of rows and columns.\n",
        "    \"It must correspond to the number of columns, multiplied number, and rows, multiplying number, in dot product.\n",
        "    \n",
        "We calculate it now."
      ]
    },
    {
      "cell_type": "code",
      "metadata": {
        "id": "kb5d2dQkMBTp",
        "colab_type": "code",
        "outputId": "a5922fd7-5629-404a-d950-6892e78b7b37",
        "colab": {
          "base_uri": "https://localhost:8080/",
          "height": 68
        }
      },
      "source": [
        "import numpy as np\n",
        "\n",
        "X = np.array([[1,2], [3,4], [5,6]])            # Matrix of 3 * 2 (rows * columns)\n",
        "Y = np.array([[7,8], [9, 10], [11, 12]])   # Matrix of 3 * 2 (rows * columns)\n",
        "\n",
        "print(np.dot(X, Y.T))"
      ],
      "execution_count": 0,
      "outputs": [
        {
          "output_type": "stream",
          "text": [
            "[[ 23  29  35]\n",
            " [ 53  67  81]\n",
            " [ 83 105 127]]\n"
          ],
          "name": "stdout"
        }
      ]
    },
    {
      "cell_type": "code",
      "metadata": {
        "id": "qioOQu43MBTr",
        "colab_type": "code",
        "outputId": "9c228f12-62b1-436c-a0bf-56dc9371297d",
        "colab": {}
      },
      "source": [
        "print(np.dot(X, (Y.T)))"
      ],
      "execution_count": 0,
      "outputs": [
        {
          "output_type": "stream",
          "text": [
            "[[ 23  29  35]\n",
            " [ 53  67  81]\n",
            " [ 83 105 127]]\n"
          ],
          "name": "stdout"
        }
      ]
    },
    {
      "cell_type": "markdown",
      "metadata": {
        "id": "5r-SCxkHMBTt",
        "colab_type": "text"
      },
      "source": [
        "### 1.1.4 Create an Array and Multidimensional Array \n",
        "\n",
        "It is several methods to initialize an array in Numpy.\n",
        "For example, we can create vector and matrix that all element are 0 and update specific place values later. \n",
        "This is super useful in Machine Learning and great advantageous to create the program after we firstly decided `shape`.\n",
        "\n",
        "The methods to initialize are `np.zeros(shape)` and `np.ones(shape)`. \n",
        "\n",
        "* `np.zeros(shape)` : The element of array or matrix is initialized 0\n",
        "* `np.ones(shape)` : The element of array or matrix is initialized 1 \n",
        "\n",
        "They pass tuple as `shape` in each argument."
      ]
    },
    {
      "cell_type": "code",
      "metadata": {
        "id": "VzXKdZpdMBTu",
        "colab_type": "code",
        "outputId": "959c1a3d-96c2-47b7-fd48-fb3e561dfd61",
        "colab": {}
      },
      "source": [
        "L = np.zeros((2,3))\n",
        "print(L)\n",
        "print(L.shape)"
      ],
      "execution_count": 0,
      "outputs": [
        {
          "output_type": "stream",
          "text": [
            "[[0. 0. 0.]\n",
            " [0. 0. 0.]]\n",
            "(2, 3)\n"
          ],
          "name": "stdout"
        }
      ]
    },
    {
      "cell_type": "markdown",
      "metadata": {
        "id": "m9GZjVTAMBTv",
        "colab_type": "text"
      },
      "source": [
        "Easy to understand. The case of vector is also same. \n",
        "In vector, it does not need tuple."
      ]
    },
    {
      "cell_type": "code",
      "metadata": {
        "id": "hcnphl4QMBTw",
        "colab_type": "code",
        "outputId": "fbc2e76b-4548-4d96-f6c9-f4df4bb0974d",
        "colab": {}
      },
      "source": [
        "l = np.ones(4)\n",
        "print(l)\n",
        "print(l.shape)"
      ],
      "execution_count": 0,
      "outputs": [
        {
          "output_type": "stream",
          "text": [
            "[1. 1. 1. 1.]\n",
            "(4,)\n"
          ],
          "name": "stdout"
        }
      ]
    },
    {
      "cell_type": "markdown",
      "metadata": {
        "id": "a3FetPd7MBTz",
        "colab_type": "text"
      },
      "source": [
        "When we use `np.arange()`, we can create the array with a range of value. "
      ]
    },
    {
      "cell_type": "code",
      "metadata": {
        "id": "sam-AN7yMBTz",
        "colab_type": "code",
        "outputId": "92a3df4c-b5ed-4852-8a0d-3ddd0bf05e1b",
        "colab": {}
      },
      "source": [
        "m = np.arange(4)\n",
        "print(m)\n",
        "print(m.__class__.__name__)"
      ],
      "execution_count": 0,
      "outputs": [
        {
          "output_type": "stream",
          "text": [
            "[0 1 2 3]\n",
            "ndarray\n"
          ],
          "name": "stdout"
        }
      ]
    },
    {
      "cell_type": "markdown",
      "metadata": {
        "id": "Oit7XeHkMBT1",
        "colab_type": "text"
      },
      "source": [
        "It starts at 0 in the default and returns the array(ndarray) with length of the number passed by the argument."
      ]
    },
    {
      "cell_type": "markdown",
      "metadata": {
        "id": "kFpW6r8-MBT2",
        "colab_type": "text"
      },
      "source": [
        "With second argument, it returns the array (ndarray), first argument to the number subtracting 1 from second argument and increasing number one by one. "
      ]
    },
    {
      "cell_type": "code",
      "metadata": {
        "id": "ggEODmH2MBT3",
        "colab_type": "code",
        "outputId": "d76a864b-87d5-41da-e2f6-ffd777688fdf",
        "colab": {}
      },
      "source": [
        "n = np.arange(4, 10)\n",
        "print(n)\n",
        "print(n.__class__.__name__)"
      ],
      "execution_count": 0,
      "outputs": [
        {
          "output_type": "stream",
          "text": [
            "[4 5 6 7 8 9]\n",
            "ndarray\n"
          ],
          "name": "stdout"
        }
      ]
    },
    {
      "cell_type": "markdown",
      "metadata": {
        "id": "GfI7f9xiMBT6",
        "colab_type": "text"
      },
      "source": [
        "Moreover, with third argument, we can specialize in X to increase by X. \n",
        "In this case, the number will increase within second argument. "
      ]
    },
    {
      "cell_type": "code",
      "metadata": {
        "id": "-KHufeBrMBT8",
        "colab_type": "code",
        "outputId": "6657b92a-2623-4975-e29b-8026857dcb3b",
        "colab": {}
      },
      "source": [
        "k = np.arange(4 ,10, 2)\n",
        "print(k)\n",
        "print(k.__class__.__name__)"
      ],
      "execution_count": 0,
      "outputs": [
        {
          "output_type": "stream",
          "text": [
            "[4 6 8]\n",
            "ndarray\n"
          ],
          "name": "stdout"
        }
      ]
    },
    {
      "cell_type": "markdown",
      "metadata": {
        "id": "Lyxkkx9yMBT-",
        "colab_type": "text"
      },
      "source": [
        "### 1.1.5 Slice\n",
        "\n",
        "When we use slice in ndarray, we can get the elements as list.\n",
        "We specify the index and get the elements now."
      ]
    },
    {
      "cell_type": "code",
      "metadata": {
        "id": "hMO59j7tMBT_",
        "colab_type": "code",
        "outputId": "96b7b4f4-31d6-4ef8-9a2b-1206a9a3f333",
        "colab": {}
      },
      "source": [
        "a = np.arange(10)\n",
        "print(a)\n",
        "print(a[0])\n",
        "print(a[9])\n",
        "print(a[-1])"
      ],
      "execution_count": 0,
      "outputs": [
        {
          "output_type": "stream",
          "text": [
            "[0 1 2 3 4 5 6 7 8 9]\n",
            "0\n",
            "9\n",
            "9\n"
          ],
          "name": "stdout"
        }
      ]
    },
    {
      "cell_type": "markdown",
      "metadata": {
        "id": "G4u02AA8MBUC",
        "colab_type": "text"
      },
      "source": [
        "When we get partial arrays,"
      ]
    },
    {
      "cell_type": "code",
      "metadata": {
        "id": "GJAN8QRcMBUD",
        "colab_type": "code",
        "outputId": "2c9edf84-aac0-4615-ceb4-aad4af9c747f",
        "colab": {}
      },
      "source": [
        "print(a[1:5])"
      ],
      "execution_count": 0,
      "outputs": [
        {
          "output_type": "stream",
          "text": [
            "[1 2 3 4]\n"
          ],
          "name": "stdout"
        }
      ]
    },
    {
      "cell_type": "markdown",
      "metadata": {
        "id": "NOP6jl9XMBUE",
        "colab_type": "text"
      },
      "source": [
        "```\n",
        "variable name [first index:last index+1]\n",
        "\n",
        "# JP\n",
        "変数名[最初のインデックス:最後のインデックス+1]\n",
        "```\n",
        "\n",
        "\n",
        "we get partial arrays\n",
        "as above."
      ]
    },
    {
      "cell_type": "code",
      "metadata": {
        "id": "Ub4uXrMIMBUF",
        "colab_type": "code",
        "outputId": "897a8e7e-1878-47bd-d38a-7754b08f4f24",
        "colab": {}
      },
      "source": [
        "print(a[4:])\n",
        "print(a[:4])"
      ],
      "execution_count": 0,
      "outputs": [
        {
          "output_type": "stream",
          "text": [
            "[4 5 6 7 8 9]\n",
            "[0 1 2 3]\n"
          ],
          "name": "stdout"
        }
      ]
    },
    {
      "cell_type": "markdown",
      "metadata": {
        "id": "HA5Vwd-xMBUI",
        "colab_type": "text"
      },
      "source": [
        "We can also get partial arrays by writing another index.\n",
        "\n",
        "```\n",
        "variable name[specified index:] => It returns the partial index no less than specified index.\n",
        "variable name[:specified index] => It returns the partial index no more than specified index(including specified index).\n",
        "```\n",
        "\n",
        "Remember that we got the partial index.\n",
        "\n",
        "There is more complicated way to get partial index."
      ]
    },
    {
      "cell_type": "code",
      "metadata": {
        "id": "fDUV_cFvMBUJ",
        "colab_type": "code",
        "outputId": "f276d1a3-c7d4-4226-d086-542c457e82a5",
        "colab": {}
      },
      "source": [
        "print(a[1:8:3])"
      ],
      "execution_count": 0,
      "outputs": [
        {
          "output_type": "stream",
          "text": [
            "[1 4 7]\n"
          ],
          "name": "stdout"
        }
      ]
    },
    {
      "cell_type": "markdown",
      "metadata": {
        "id": "dfOdv2gSMBUN",
        "colab_type": "text"
      },
      "source": [
        "This specifies\n",
        "```\n",
        "variable name[first index:last index + 1:the interval from first to last]\n",
        "\n",
        "# JP\n",
        "変数名[最初のインデックス:最後のインデックス + 1:最初から最後までの間隔]\n",
        "```\n",
        "We apply this as follows.\n",
        "\n",
        "The following is advanced version of this."
      ]
    },
    {
      "cell_type": "code",
      "metadata": {
        "id": "7xh6AI_WMBUP",
        "colab_type": "code",
        "outputId": "b04e8ddf-e1e8-47e8-9994-ecaac3f1eb3f",
        "colab": {}
      },
      "source": [
        "print(a[::-1])"
      ],
      "execution_count": 0,
      "outputs": [
        {
          "output_type": "stream",
          "text": [
            "[9 8 7 6 5 4 3 2 1 0]\n"
          ],
          "name": "stdout"
        }
      ]
    },
    {
      "cell_type": "markdown",
      "metadata": {
        "id": "DzscxLE_MBUS",
        "colab_type": "text"
      },
      "source": [
        "We can sort the arrays in opposite order easily."
      ]
    },
    {
      "cell_type": "markdown",
      "metadata": {
        "id": "ff3Jit-cMBUT",
        "colab_type": "text"
      },
      "source": [
        "We can also use these slice in matrix.\n",
        "Prepare `ndarray` of matrix now."
      ]
    },
    {
      "cell_type": "code",
      "metadata": {
        "id": "aj6nfKzLMBUT",
        "colab_type": "code",
        "outputId": "8be99637-4f0c-4fda-89db-6472b53adbe4",
        "colab": {}
      },
      "source": [
        "A = np.arange(1, 6+1).reshape(2,3)\n",
        "print(A)"
      ],
      "execution_count": 0,
      "outputs": [
        {
          "output_type": "stream",
          "text": [
            "[[1 2 3]\n",
            " [4 5 6]]\n"
          ],
          "name": "stdout"
        }
      ]
    },
    {
      "cell_type": "markdown",
      "metadata": {
        "id": "nK_p93rGMBUY",
        "colab_type": "text"
      },
      "source": [
        "It shows a bit little interesting in this type. We use `np.reshpae()`, a function, after we used `np.arange()`.\n",
        "This reshape is a function that changes the arrays to shape, the argument of reshape function. \n",
        "\n",
        "We use slice now."
      ]
    },
    {
      "cell_type": "code",
      "metadata": {
        "id": "U6tTy6ALMBUY",
        "colab_type": "code",
        "outputId": "afd078f0-6516-41bc-8e97-6562e1bf8c03",
        "colab": {}
      },
      "source": [
        "print(A[:2])"
      ],
      "execution_count": 0,
      "outputs": [
        {
          "output_type": "stream",
          "text": [
            "[[1 2 3]\n",
            " [4 5 6]]\n"
          ],
          "name": "stdout"
        }
      ]
    },
    {
      "cell_type": "markdown",
      "metadata": {
        "id": "IcMitbrqMBUb",
        "colab_type": "text"
      },
      "source": [
        "This is same as before because A is second dimension from the start."
      ]
    },
    {
      "cell_type": "code",
      "metadata": {
        "id": "1UJ-BSQhMBUc",
        "colab_type": "code",
        "outputId": "125761fb-6c37-449d-c92c-98e24b03611c",
        "colab": {}
      },
      "source": [
        "print(A[:1, 0])\n",
        "print(A[:2, 1])"
      ],
      "execution_count": 0,
      "outputs": [
        {
          "output_type": "stream",
          "text": [
            "[1]\n",
            "[2 5]\n"
          ],
          "name": "stdout"
        }
      ]
    },
    {
      "cell_type": "code",
      "metadata": {
        "id": "XvQN82xlMBUf",
        "colab_type": "code",
        "outputId": "d613ce20-febf-404f-ac65-1c9cb7b561ed",
        "colab": {}
      },
      "source": [
        "print(A[:2, ::-1])"
      ],
      "execution_count": 0,
      "outputs": [
        {
          "output_type": "stream",
          "text": [
            "[[3 2 1]\n",
            " [6 5 4]]\n"
          ],
          "name": "stdout"
        }
      ]
    },
    {
      "cell_type": "markdown",
      "metadata": {
        "id": "6zDH_ud8MBUh",
        "colab_type": "text"
      },
      "source": [
        "We can also sort each row of array."
      ]
    },
    {
      "cell_type": "markdown",
      "metadata": {
        "id": "oVQ3fX9QMBUi",
        "colab_type": "text"
      },
      "source": [
        "## 1.2. Matplotlib"
      ]
    },
    {
      "cell_type": "markdown",
      "metadata": {
        "id": "aVdLVlYeMBUi",
        "colab_type": "text"
      },
      "source": [
        "## slide: false\n",
        "\n",
        "\n",
        "```py3\n",
        "import numpy as np\n",
        "import matplotlib.pyplot as plt\n",
        "```\n",
        "\n",
        "It is imported necessary module as above and we explain this chapter under it. \n",
        "\n",
        "# Plot data points\n",
        "\n",
        "```py3\n",
        "x = [1,2,3,4]\n",
        "y = [5,6,7,8]\n",
        "plt.plot(x, y, 'o-', label=\"my data\") # plot ... w lp title \"my data\"\n",
        "plt.xlabel(\"X\")         # set xlabel \"X\"\n",
        "plt.ylabel(\"Y\")         # set ylabel \"Y\"\n",
        "plt.legend(loc='best')  # set key\n",
        "plt.show()\n",
        "```\n",
        "\n",
        "![image](https://qiita-image-store.s3.amazonaws.com/0/28792/37f136e5-fb4e-8507-2b45-52f02a10f8e8.png)\n",
        "\n",
        "Corresponding gnuplot command that is written in the comment.\n",
        "\n",
        "he third argument in `plot()` shows the format of display data. 'o' shows round marker, '-' shows line type.\n",
        "\n",
        "When we specified `loc='best'` as the argument in `plt.legend`, it chooses the place of graph legends. If we choose best as default, it will be useful.\n",
        "\n",
        "## Multiple series of plots \n",
        "\n",
        "```py3\n",
        "x = [1,2,3,4]\n",
        "y1 = [5,6,7,8]\n",
        "y2 = [4,2,8,6]\n",
        "\n",
        "plt.plot(x, y1, 'o-', label='y1')  # plot ....\n",
        "plt.plot(x, y2, 'o-', label='y2')  # replot ...\n",
        "plt.legend(loc='best')             # set key\n",
        "plt.show()\n",
        "```\n",
        "\n",
        "![image](https://qiita-image-store.s3.amazonaws.com/0/28792/9900ff1c-a42f-29ef-1af3-cffee96f0234.png)\n",
        "\n",
        "The plots are added more and more while we call `plot` in several times. When we call `show()`, they are drawn for the first time. \n",
        "\n",
        "# Plot the functions \n",
        "\n",
        "We need to add the data points by ourselves because it can not plot giving the functions.\n",
        "Idiom that uses `np.arange`. \n",
        "\n",
        "```py3\n",
        "x = np.arange(-3.0, 3.0, 0.01)\n",
        "y = np.sin(x) * np.exp( -x)\n",
        "plt.plot(x, y, '-')\n",
        "plt.show()\n",
        "```\n",
        "\n",
        "![image](https://qiita-image-store.s3.amazonaws.com/0/28792/847228c1-9f43-b49d-2457-6f3e441929a1.png)\n",
        "\n",
        "# Use log scale\n",
        "\n",
        "```py3\n",
        "x = np.arange( -3.0, 3.0, 0.01 )\n",
        "y = np.exp(-x) * np.cos(x)*np.cos(x)\n",
        "plt.plot(x, y, '-')\n",
        "plt.yscale('log')\n",
        "plt.show()\n",
        "```\n",
        "\n",
        "![image](https://qiita-image-store.s3.amazonaws.com/0/28792/17e9ae0b-ad31-d22e-bde2-ae9e158b02a4.png)\n",
        "\n",
        "When we want to use linear scale, for example, we write `plt.xscale('linear')`.\n",
        "\n",
        "# Loading the data from the file\n",
        "\n",
        "For example, we have a file \"test.dat\" as follows.\n",
        "\n",
        "```txt:test.dat\n",
        "1 2 4\n",
        "3 4 9\n",
        "5 6 2\n",
        "7 8 4\n",
        "```\n",
        "\n",
        "In order to plot this, \n",
        "\n",
        "```testdat.py\n",
        "# \"cols\", \"names\", \"delimiter\" arguments are mandatory.\n",
        "plt.plotfile('test.dat', cols=(0,1), names=('x','y'), delimiter=' ', marker='o', linestyle='--')\n",
        "plt.show()\n",
        "```\n",
        "\n",
        "we write as above. If we omit `delimiter`, `names` and `cols`, it will not be displayed.\n",
        "Especially, when we omit `names`, the first row is interpreted as the header row and the first row of data will disappear. \n",
        "\n",
        "![image](https://qiita-image-store.s3.amazonaws.com/0/28792/17ac45cf-3fb1-0036-c3a0-c503ce6c70b5.png)\n",
        "\n",
        "In another way, we use numpy and load the data.\n",
        "\n",
        "```py3\n",
        "np.loadtxt(\"test.dat\", comments='#', delimiter=' ')\n",
        "plt.plot( dat[:,0]/1000, dat[:,1], 'o-' )\n",
        "```\n",
        "\n",
        "## Plot of the result in multiple columns\n",
        "\n",
        "```py3\n",
        "names = ('x','y1','y2')\n",
        "plt.plotfile('test.dat', cols=(0,1), names=names, delimiter=' ', label=\"y1\")\n",
        "plt.plotfile('test.dat', cols=(0,2), names=names, delimiter=' ', label=\"y2\", newfig=False)\n",
        "plt.legend(loc='best')\n",
        "plt.show()\n",
        "```\n",
        "\n",
        "![image](https://qiita-image-store.s3.amazonaws.com/0/28792/e07e6481-3a7d-5e80-60c2-912657d4fad0.png)\n",
        "\n",
        "In another way, we use `numpy#loadtxt`.\n",
        "  \n",
        "    \n",
        "We use scatter to draw scatter plots. \n",
        "We will give you some examples the following.\n",
        "\n",
        "## Simple scatter plots\n",
        "See the example about most simple scatter plots in the below figure.\n",
        "\n",
        "```py\n",
        "import numpy as np\n",
        "import matplotlib.pyplot as plt\n",
        "\n",
        "# generate data\n",
        "x = np.random.rand(100)\n",
        "y = np.random.rand(100)\n",
        "\n",
        "fig = plt.figure()\n",
        "\n",
        "ax = fig.add_subplot(1,1,1)\n",
        "\n",
        "ax.scatter(x,y)\n",
        "\n",
        "ax.set_title('first scatter plot')\n",
        "ax.set_xlabel('x')\n",
        "ax.set_ylabel('y')\n",
        "\n",
        "fig.show()\n",
        "```\n",
        "![scatter01.png](https://qiita-image-store.s3.amazonaws.com/0/100523/53d0dd61-99f4-c8eb-3659-aa8602f0a85a.png)\n",
        "\n",
        "## Change the color for each data\n",
        "We can change the colors specifying as c='red' to the parameter.\n",
        "\n",
        "```py\n",
        "import numpy as np\n",
        "import matplotlib.pyplot as plt\n",
        "\n",
        "# generate data\n",
        "x1 = np.random.rand(100)*0.5\n",
        "y1 = np.random.rand(100)\n",
        "\n",
        "x2 = np.random.rand(100)*0.5 + 0.5\n",
        "y2 = np.random.rand(100)\n",
        "\n",
        "fig = plt.figure()\n",
        "\n",
        "ax = fig.add_subplot(1,1,1)\n",
        "\n",
        "ax.scatter(x1,y1, c='red')\n",
        "ax.scatter(x2,y2, c='blue')\n",
        "\n",
        "ax.set_title('second scatter plot')\n",
        "ax.set_xlabel('x')\n",
        "ax.set_ylabel('y')\n",
        "\n",
        "fig.show()\n",
        "```\n",
        "![scatter02.png](https://qiita-image-store.s3.amazonaws.com/0/100523/7af37198-eaad-b08b-c604-305775260c41.png)\n",
        "\n",
        "If we specify RGB, the result will be same. We specify the value between 0.0 and 1.0 at this time. \n",
        "\n",
        "```py\n",
        "ax.scatter(x1,y1, c=(1.0,0,0))\n",
        "ax.scatter(x2,y2, c=(0, 0, 1.0))\n",
        "```\n",
        "\n",
        "## Add graph legends and grid lines\n",
        "We use legend to add the graph legends. We can adjust the position displayed with argument. \n",
        "When we want to add grid line, we use grid(True). \n",
        "\n",
        "|position|\n",
        "|:----:|\n",
        "|upper right|\n",
        "|upper left |\n",
        "|lower left |\n",
        "|lower right|\n",
        "|right      |\n",
        "|center left|\n",
        "|center right|\n",
        "|lower center|\n",
        "|upper center|\n",
        "|center      |\n",
        "\n",
        "```py\n",
        "import numpy as np\n",
        "import matplotlib.pyplot as plt\n",
        "\n",
        "# generate data\n",
        "x1 = np.random.rand(100)*0.5\n",
        "y1 = np.random.rand(100)*0.5\n",
        "\n",
        "x2 = np.random.rand(100)*0.5 + 0.5\n",
        "y2 = np.random.rand(100)*0.5\n",
        "\n",
        "x3 = np.random.rand(100)*0.5\n",
        "y3 = np.random.rand(100)*0.5 + 0.5\n",
        "\n",
        "x4 = np.random.rand(100)*0.5 + 0.5\n",
        "y4 = np.random.rand(100)*0.5 + 0.5\n",
        "\n",
        "fig = plt.figure()\n",
        "\n",
        "ax = fig.add_subplot(1,1,1)\n",
        "\n",
        "ax.scatter(x1,y1, c='red', label='group1')\n",
        "ax.scatter(x2,y2, c='blue', label='group2')\n",
        "ax.scatter(x3,y3, c='green', label='group3')\n",
        "ax.scatter(x4,y4, c='yellow', label='group4')\n",
        "\n",
        "ax.set_title('third scatter plot')\n",
        "ax.set_xlabel('x')\n",
        "ax.set_ylabel('y')\n",
        "\n",
        "ax.grid(True)\n",
        "\n",
        "ax.legend(loc='upper left')\n",
        "fig.show()\n",
        "```\n",
        "![scatter03.png](https://qiita-image-store.s3.amazonaws.com/0/100523/46ab6f30-773e-cec3-daed-2a8d59ca5d1e.png)\n",
        "\n",
        "## Change the markers \n",
        "We specify the markers as marker='o'. \\n\",\n",
        "    \"We will give you the examples about representative four markers. There are more. [Here]For details refer to(http://matplotlib.org/api/markers_api.html#module-matplotlib.markers).\n",
        "\n",
        "```py\n",
        "import numpy as np\n",
        "import matplotlib.pyplot as plt\n",
        "\n",
        "# generate data\n",
        "x1 = np.random.rand(100)*0.5\n",
        "y1 = np.random.rand(100)*0.5\n",
        "\n",
        "x2 = np.random.rand(100)*0.5 + 0.5\n",
        "y2 = np.random.rand(100)*0.5\n",
        "\n",
        "x3 = np.random.rand(100)*0.5\n",
        "y3 = np.random.rand(100)*0.5 + 0.5\n",
        "\n",
        "x4 = np.random.rand(100)*0.5 + 0.5\n",
        "y4 = np.random.rand(100)*0.5 + 0.5\n",
        "\n",
        "fig = plt.figure()\n",
        "\n",
        "ax = fig.add_subplot(1,1,1)\n",
        "\n",
        "ax.scatter(x1,y1, c='red', marker='.', label='group1')\n",
        "ax.scatter(x2,y2, c='blue',marker='o', label='group2')\n",
        "ax.scatter(x3,y3, c='green',marker='^', label='group3')\n",
        "ax.scatter(x4,y4, c='yellow',marker='s', label='group4')\n",
        "\n",
        "ax.set_title('fourth scatter plot')\n",
        "ax.set_xlabel('x')\n",
        "ax.set_ylabel('y')\n",
        "\n",
        "ax.grid(True)\n",
        "\n",
        "ax.legend(loc='upper left')\n",
        "fig.show()\n",
        "```\n",
        "![scatter04.png](https://qiita-image-store.s3.amazonaws.com/0/100523/1014c993-9362-c8b1-dee5-2927d5bcc8fc.png)\n",
        "\n",
        "## Change the size of markers\n",
        "We set the size of markers to the parameter as s=20. The default is 20.\n",
        "\n",
        "```py\n",
        "import numpy as np\n",
        "import matplotlib.pyplot as plt\n",
        "\n",
        "# generate data\n",
        "x1 = np.random.rand(100)*0.5\n",
        "y1 = np.random.rand(100)*0.5\n",
        "\n",
        "x2 = np.random.rand(100)*0.5 + 0.5\n",
        "y2 = np.random.rand(100)*0.5\n",
        "\n",
        "x3 = np.random.rand(100)*0.5\n",
        "y3 = np.random.rand(100)*0.5 + 0.5\n",
        "\n",
        "x4 = np.random.rand(100)*0.5 + 0.5\n",
        "y4 = np.random.rand(100)*0.5 + 0.5\n",
        "\n",
        "fig = plt.figure()\n",
        "\n",
        "ax = fig.add_subplot(1,1,1)\n",
        "\n",
        "ax.scatter(x1,y1, c='red', s=20, marker='o', label='group1')\n",
        "ax.scatter(x2,y2, c='blue',s=40, marker='o', label='group2')\n",
        "ax.scatter(x3,y3, c='green',s=80, marker='o', label='group3')\n",
        "ax.scatter(x4,y4, c='yellow',s=120, marker='o', label='group4')\n",
        "\n",
        "ax.set_title('fifth scatter plot')\n",
        "ax.set_xlabel('x')\n",
        "ax.set_ylabel('y')\n",
        "\n",
        "ax.grid(True)\n",
        "\n",
        "ax.legend(loc='upper left')\n",
        "fig.show()\n",
        "```\n",
        "![scatter05.png](https://qiita-image-store.s3.amazonaws.com/0/100523/0eddee23-fb54-f05c-eef6-b70a7dbd9b6e.png)\n",
        "\n",
        "\n",
        "\n",
        "###Just want to display\n",
        "\n",
        "If we just want to display, we can use Image.show() method.\n",
        "Each standard viewer will open.\n",
        "\n",
        "```py\n",
        "#coding:utf-8\n",
        "from PIL import Image\n",
        "\n",
        "#Load the images\n",
        "im = Image.open(\"./achan.jpg\")\n",
        "\n",
        "#Display\n",
        "im.show()\n",
        "```\n",
        "\n",
        "![py2](http://www.bluecode.jp/qiita/python02/001.png)\n",
        "\n",
        "\n",
        "###Standard Python program\n",
        "\n",
        "If we want to display the images in standard? Python program, we can use Matplotlib as same as drawing the graphs. \n",
        "It is probably useful and convenient because we can add the caption etc.\n",
        "\n",
        "```py\n",
        "#coding:utf-8\n",
        "from PIL import Image\n",
        "import matplotlib.pyplot as plt\n",
        "import numpy as np\n",
        "\n",
        "#Load the images\n",
        "im = Image.open(\"./achan.jpg\")\n",
        "\n",
        "#Conver the images to array\n",
        "im_list = np.asarray(im)\n",
        "\n",
        "# Paste\n",
        "plt.imshow(im_list)\n",
        "\n",
        "# Display\n",
        "plt.show()\n",
        "```\n",
        "\n",
        "![py2](http://www.bluecode.jp/qiita/python02/002.png)\n",
        "\n",
        "Apparently the pixels were mapped on the coordinates. \n",
        "\n",
        "###Jupyter\n",
        "\n",
        "When we want to display the images in notebook of Jupyter(IPython), we add %matplotlib inline at the beginnig of the program. \n",
        "Then, it is displayed inline(if not so, another window will open).\n",
        "\n",
        ">We can add inline option when we launched notebook. We recommend that you will do this if you do not want to change the code.\n",
        "\n",
        "```py\n",
        "#coding:utf-8\n",
        "from PIL import Image\n",
        "import matplotlib.pyplot as plt\n",
        "import numpy as np\n",
        "\n",
        "#Declare to display inline with Jupyter\n",
        "%matplotlib inline #Add\n",
        "\n",
        "#Load the images\n",
        "im = Image.open(\"./achan.jpg\")\n",
        "\n",
        "#Conver the images to array\n",
        "im_list = np.asarray(im)\n",
        "#Paste\n",
        "plt.imshow(im_list)\n",
        "#Display\n",
        "plt.show()\n",
        "```\n",
        "\n",
        "![py2](http://www.bluecode.jp/qiita/python02/003.png)\n",
        "\n"
      ]
    },
    {
      "cell_type": "code",
      "metadata": {
        "id": "TnYXhcYi1mq_",
        "colab_type": "code",
        "colab": {}
      },
      "source": [
        "from google.colab import drive\n",
        "drive.mount('/content/drive')"
      ],
      "execution_count": 0,
      "outputs": []
    },
    {
      "cell_type": "markdown",
      "metadata": {
        "id": "t2OF7Dt9cwdG",
        "colab_type": "text"
      },
      "source": [
        "## Activity\n",
        "\n",
        "1 Create csv data by yourself then load it in your python file  \n",
        "2 Set the x and y axes and explain what they mean\n",
        "\n",
        "\n",
        "\n",
        "\n",
        "### FYI\n",
        "There’s one package you need to learn for data science. It’s called pandas.\n",
        "\n",
        "Pandas is like Excel in Python: it uses tables (namely DataFrame) and operates transformations on the data. But it can do a lot more.\n",
        "\n",
        "- Tutorial  \n",
        "https://data36.com/pandas-tutorial-1-basics-reading-data-files-dataframes-data-selection/\n",
        "\n",
        "- You can also do it  \n",
        "https://github.com/simongeek/PandasDA\n",
        "\n",
        "\n",
        "\n"
      ]
    }
  ]
}